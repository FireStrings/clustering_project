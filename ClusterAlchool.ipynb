{
 "cells": [
  {
   "cell_type": "code",
   "execution_count": 1,
   "metadata": {},
   "outputs": [],
   "source": [
    "import pandas as pd\n",
    "import seaborn as sns\n",
    "from sklearn.cluster import KMeans\n",
    "from sklearn.preprocessing import scale\n",
    "from sklearn.preprocessing import StandardScaler\n",
    "from sklearn.preprocessing import Normalizer\n",
    "\n",
    "import seaborn as sns\n",
    "import matplotlib.pyplot as plt\n",
    "%matplotlib inline\n",
    "import warnings\n",
    "warnings.filterwarnings(\"ignore\")"
   ]
  },
  {
   "cell_type": "code",
   "execution_count": 2,
   "metadata": {},
   "outputs": [],
   "source": [
    "dados = pd.read_csv(\"data/Alchool/student-mat.csv\")"
   ]
  },
  {
   "cell_type": "code",
   "execution_count": 3,
   "metadata": {},
   "outputs": [],
   "source": [
    "dados = dados.rename(columns={\"age\": \"idade\", \"Medu\": \"EduMae\", \"Fedu\":\"EduPai\", \"traveltime\":\"tempoAteEscola\",\n",
    "                             \"studytime\":\"horaEstudoSemanal\", \"failures\":\"reprovacoes\", \"famrel\":\"nivelRelacaoFamiliar\",\n",
    "                             \"freetime\":\"tempoLivre\", \"goout\":\"saiComAmigos\", \"Dalc\":\"consumoDiaSemana\", \n",
    "                              \"Walc\":\"consumoFimDeSemana\", \"health\":\"saudeAtual\", \"absences\":\"faltas\", \n",
    "                              \"G1\":\"notaPrimeroPeriodo\", \"G2\":\"notaSegundoPeriodo\", \"G3\":\"notaTerceiroPeriodo\",\n",
    "                             \"school\":\"escola\", \"sex\":\"sexo\", \"Mjob\":\"trabalhoMae\", \"Fjob\": \"trabalhoPai\",\n",
    "                             \"address\":\"ondeMora\", \"famsize\":\"tamanhoFamilia\", \"Pstatus\":\"statusPai\",\n",
    "                             \"Mstatus\":\"statusMae\", \"reason\":\"porqueEscolheuEscola\", \"guardian\":\"guarda\",\n",
    "                             \"schoolsup\":\"ajudaExtraEdu\", \"famsup\":\"ajudaExtraFamilia\", \"paid\":\"aulasExtraPaga\",\n",
    "                             \"activities\":\"extracurricular\", \"nursery\":\"foiAoMaternal\", \"higher\":\"querFaculdade\",\n",
    "                             \"internet\":\"internetEmCasa\", \"romantic\":\"emRelacionamento\"})"
   ]
  },
  {
   "cell_type": "code",
   "execution_count": 5,
   "metadata": {},
   "outputs": [],
   "source": [
    "# pd.crosstab(dados['tamanhoFamilia'], dados['saiComAmigos'], margins=True, margins_name = 'Total')\n",
    "# dados['Medu'].value_counts()/len(dados['Medu'])*100"
   ]
  },
  {
   "cell_type": "code",
   "execution_count": 11,
   "metadata": {},
   "outputs": [],
   "source": [
    "dados_n = dados[[\"EduMae\",\"EduPai\",\"tempoAteEscola\",\"horaEstudoSemanal\",\"reprovacoes\",\"nivelRelacaoFamiliar\",\"tempoLivre\",\"saiComAmigos\",\"consumoDiaSemana\",\"consumoFimDeSemana\",\"saudeAtual\",\"faltas\",\"notaPrimeroPeriodo\",\"notaSegundoPeriodo\",\"notaTerceiroPeriodo\"]].copy()"
   ]
  },
  {
   "cell_type": "code",
   "execution_count": 12,
   "metadata": {},
   "outputs": [
    {
     "data": {
      "text/html": [
       "<div>\n",
       "<style scoped>\n",
       "    .dataframe tbody tr th:only-of-type {\n",
       "        vertical-align: middle;\n",
       "    }\n",
       "\n",
       "    .dataframe tbody tr th {\n",
       "        vertical-align: top;\n",
       "    }\n",
       "\n",
       "    .dataframe thead th {\n",
       "        text-align: right;\n",
       "    }\n",
       "</style>\n",
       "<table border=\"1\" class=\"dataframe\">\n",
       "  <thead>\n",
       "    <tr style=\"text-align: right;\">\n",
       "      <th></th>\n",
       "      <th>EduMae</th>\n",
       "      <th>EduPai</th>\n",
       "      <th>tempoAteEscola</th>\n",
       "      <th>horaEstudoSemanal</th>\n",
       "      <th>reprovacoes</th>\n",
       "      <th>nivelRelacaoFamiliar</th>\n",
       "      <th>tempoLivre</th>\n",
       "      <th>saiComAmigos</th>\n",
       "      <th>consumoDiaSemana</th>\n",
       "      <th>consumoFimDeSemana</th>\n",
       "      <th>saudeAtual</th>\n",
       "      <th>faltas</th>\n",
       "      <th>notaPrimeroPeriodo</th>\n",
       "      <th>notaSegundoPeriodo</th>\n",
       "      <th>notaTerceiroPeriodo</th>\n",
       "    </tr>\n",
       "  </thead>\n",
       "  <tbody>\n",
       "    <tr>\n",
       "      <th>EduMae</th>\n",
       "      <td>1.000000</td>\n",
       "      <td>0.623455</td>\n",
       "      <td>-0.171639</td>\n",
       "      <td>0.064944</td>\n",
       "      <td>-0.236680</td>\n",
       "      <td>-0.003914</td>\n",
       "      <td>0.030891</td>\n",
       "      <td>0.064094</td>\n",
       "      <td>0.019834</td>\n",
       "      <td>-0.047123</td>\n",
       "      <td>-0.046878</td>\n",
       "      <td>0.100285</td>\n",
       "      <td>0.205341</td>\n",
       "      <td>0.215527</td>\n",
       "      <td>0.217147</td>\n",
       "    </tr>\n",
       "    <tr>\n",
       "      <th>EduPai</th>\n",
       "      <td>0.623455</td>\n",
       "      <td>1.000000</td>\n",
       "      <td>-0.158194</td>\n",
       "      <td>-0.009175</td>\n",
       "      <td>-0.250408</td>\n",
       "      <td>-0.001370</td>\n",
       "      <td>-0.012846</td>\n",
       "      <td>0.043105</td>\n",
       "      <td>0.002386</td>\n",
       "      <td>-0.012631</td>\n",
       "      <td>0.014742</td>\n",
       "      <td>0.024473</td>\n",
       "      <td>0.190270</td>\n",
       "      <td>0.164893</td>\n",
       "      <td>0.152457</td>\n",
       "    </tr>\n",
       "    <tr>\n",
       "      <th>tempoAteEscola</th>\n",
       "      <td>-0.171639</td>\n",
       "      <td>-0.158194</td>\n",
       "      <td>1.000000</td>\n",
       "      <td>-0.100909</td>\n",
       "      <td>0.092239</td>\n",
       "      <td>-0.016808</td>\n",
       "      <td>-0.017025</td>\n",
       "      <td>0.028540</td>\n",
       "      <td>0.138325</td>\n",
       "      <td>0.134116</td>\n",
       "      <td>0.007501</td>\n",
       "      <td>-0.012944</td>\n",
       "      <td>-0.093040</td>\n",
       "      <td>-0.153198</td>\n",
       "      <td>-0.117142</td>\n",
       "    </tr>\n",
       "    <tr>\n",
       "      <th>horaEstudoSemanal</th>\n",
       "      <td>0.064944</td>\n",
       "      <td>-0.009175</td>\n",
       "      <td>-0.100909</td>\n",
       "      <td>1.000000</td>\n",
       "      <td>-0.173563</td>\n",
       "      <td>0.039731</td>\n",
       "      <td>-0.143198</td>\n",
       "      <td>-0.063904</td>\n",
       "      <td>-0.196019</td>\n",
       "      <td>-0.253785</td>\n",
       "      <td>-0.075616</td>\n",
       "      <td>-0.062700</td>\n",
       "      <td>0.160612</td>\n",
       "      <td>0.135880</td>\n",
       "      <td>0.097820</td>\n",
       "    </tr>\n",
       "    <tr>\n",
       "      <th>reprovacoes</th>\n",
       "      <td>-0.236680</td>\n",
       "      <td>-0.250408</td>\n",
       "      <td>0.092239</td>\n",
       "      <td>-0.173563</td>\n",
       "      <td>1.000000</td>\n",
       "      <td>-0.044337</td>\n",
       "      <td>0.091987</td>\n",
       "      <td>0.124561</td>\n",
       "      <td>0.136047</td>\n",
       "      <td>0.141962</td>\n",
       "      <td>0.065827</td>\n",
       "      <td>0.063726</td>\n",
       "      <td>-0.354718</td>\n",
       "      <td>-0.355896</td>\n",
       "      <td>-0.360415</td>\n",
       "    </tr>\n",
       "    <tr>\n",
       "      <th>nivelRelacaoFamiliar</th>\n",
       "      <td>-0.003914</td>\n",
       "      <td>-0.001370</td>\n",
       "      <td>-0.016808</td>\n",
       "      <td>0.039731</td>\n",
       "      <td>-0.044337</td>\n",
       "      <td>1.000000</td>\n",
       "      <td>0.150701</td>\n",
       "      <td>0.064568</td>\n",
       "      <td>-0.077594</td>\n",
       "      <td>-0.113397</td>\n",
       "      <td>0.094056</td>\n",
       "      <td>-0.044354</td>\n",
       "      <td>0.022168</td>\n",
       "      <td>-0.018281</td>\n",
       "      <td>0.051363</td>\n",
       "    </tr>\n",
       "    <tr>\n",
       "      <th>tempoLivre</th>\n",
       "      <td>0.030891</td>\n",
       "      <td>-0.012846</td>\n",
       "      <td>-0.017025</td>\n",
       "      <td>-0.143198</td>\n",
       "      <td>0.091987</td>\n",
       "      <td>0.150701</td>\n",
       "      <td>1.000000</td>\n",
       "      <td>0.285019</td>\n",
       "      <td>0.209001</td>\n",
       "      <td>0.147822</td>\n",
       "      <td>0.075733</td>\n",
       "      <td>-0.058078</td>\n",
       "      <td>0.012613</td>\n",
       "      <td>-0.013777</td>\n",
       "      <td>0.011307</td>\n",
       "    </tr>\n",
       "    <tr>\n",
       "      <th>saiComAmigos</th>\n",
       "      <td>0.064094</td>\n",
       "      <td>0.043105</td>\n",
       "      <td>0.028540</td>\n",
       "      <td>-0.063904</td>\n",
       "      <td>0.124561</td>\n",
       "      <td>0.064568</td>\n",
       "      <td>0.285019</td>\n",
       "      <td>1.000000</td>\n",
       "      <td>0.266994</td>\n",
       "      <td>0.420386</td>\n",
       "      <td>-0.009577</td>\n",
       "      <td>0.044302</td>\n",
       "      <td>-0.149104</td>\n",
       "      <td>-0.162250</td>\n",
       "      <td>-0.132791</td>\n",
       "    </tr>\n",
       "    <tr>\n",
       "      <th>consumoDiaSemana</th>\n",
       "      <td>0.019834</td>\n",
       "      <td>0.002386</td>\n",
       "      <td>0.138325</td>\n",
       "      <td>-0.196019</td>\n",
       "      <td>0.136047</td>\n",
       "      <td>-0.077594</td>\n",
       "      <td>0.209001</td>\n",
       "      <td>0.266994</td>\n",
       "      <td>1.000000</td>\n",
       "      <td>0.647544</td>\n",
       "      <td>0.077180</td>\n",
       "      <td>0.111908</td>\n",
       "      <td>-0.094159</td>\n",
       "      <td>-0.064120</td>\n",
       "      <td>-0.054660</td>\n",
       "    </tr>\n",
       "    <tr>\n",
       "      <th>consumoFimDeSemana</th>\n",
       "      <td>-0.047123</td>\n",
       "      <td>-0.012631</td>\n",
       "      <td>0.134116</td>\n",
       "      <td>-0.253785</td>\n",
       "      <td>0.141962</td>\n",
       "      <td>-0.113397</td>\n",
       "      <td>0.147822</td>\n",
       "      <td>0.420386</td>\n",
       "      <td>0.647544</td>\n",
       "      <td>1.000000</td>\n",
       "      <td>0.092476</td>\n",
       "      <td>0.136291</td>\n",
       "      <td>-0.126179</td>\n",
       "      <td>-0.084927</td>\n",
       "      <td>-0.051939</td>\n",
       "    </tr>\n",
       "    <tr>\n",
       "      <th>saudeAtual</th>\n",
       "      <td>-0.046878</td>\n",
       "      <td>0.014742</td>\n",
       "      <td>0.007501</td>\n",
       "      <td>-0.075616</td>\n",
       "      <td>0.065827</td>\n",
       "      <td>0.094056</td>\n",
       "      <td>0.075733</td>\n",
       "      <td>-0.009577</td>\n",
       "      <td>0.077180</td>\n",
       "      <td>0.092476</td>\n",
       "      <td>1.000000</td>\n",
       "      <td>-0.029937</td>\n",
       "      <td>-0.073172</td>\n",
       "      <td>-0.097720</td>\n",
       "      <td>-0.061335</td>\n",
       "    </tr>\n",
       "    <tr>\n",
       "      <th>faltas</th>\n",
       "      <td>0.100285</td>\n",
       "      <td>0.024473</td>\n",
       "      <td>-0.012944</td>\n",
       "      <td>-0.062700</td>\n",
       "      <td>0.063726</td>\n",
       "      <td>-0.044354</td>\n",
       "      <td>-0.058078</td>\n",
       "      <td>0.044302</td>\n",
       "      <td>0.111908</td>\n",
       "      <td>0.136291</td>\n",
       "      <td>-0.029937</td>\n",
       "      <td>1.000000</td>\n",
       "      <td>-0.031003</td>\n",
       "      <td>-0.031777</td>\n",
       "      <td>0.034247</td>\n",
       "    </tr>\n",
       "    <tr>\n",
       "      <th>notaPrimeroPeriodo</th>\n",
       "      <td>0.205341</td>\n",
       "      <td>0.190270</td>\n",
       "      <td>-0.093040</td>\n",
       "      <td>0.160612</td>\n",
       "      <td>-0.354718</td>\n",
       "      <td>0.022168</td>\n",
       "      <td>0.012613</td>\n",
       "      <td>-0.149104</td>\n",
       "      <td>-0.094159</td>\n",
       "      <td>-0.126179</td>\n",
       "      <td>-0.073172</td>\n",
       "      <td>-0.031003</td>\n",
       "      <td>1.000000</td>\n",
       "      <td>0.852118</td>\n",
       "      <td>0.801468</td>\n",
       "    </tr>\n",
       "    <tr>\n",
       "      <th>notaSegundoPeriodo</th>\n",
       "      <td>0.215527</td>\n",
       "      <td>0.164893</td>\n",
       "      <td>-0.153198</td>\n",
       "      <td>0.135880</td>\n",
       "      <td>-0.355896</td>\n",
       "      <td>-0.018281</td>\n",
       "      <td>-0.013777</td>\n",
       "      <td>-0.162250</td>\n",
       "      <td>-0.064120</td>\n",
       "      <td>-0.084927</td>\n",
       "      <td>-0.097720</td>\n",
       "      <td>-0.031777</td>\n",
       "      <td>0.852118</td>\n",
       "      <td>1.000000</td>\n",
       "      <td>0.904868</td>\n",
       "    </tr>\n",
       "    <tr>\n",
       "      <th>notaTerceiroPeriodo</th>\n",
       "      <td>0.217147</td>\n",
       "      <td>0.152457</td>\n",
       "      <td>-0.117142</td>\n",
       "      <td>0.097820</td>\n",
       "      <td>-0.360415</td>\n",
       "      <td>0.051363</td>\n",
       "      <td>0.011307</td>\n",
       "      <td>-0.132791</td>\n",
       "      <td>-0.054660</td>\n",
       "      <td>-0.051939</td>\n",
       "      <td>-0.061335</td>\n",
       "      <td>0.034247</td>\n",
       "      <td>0.801468</td>\n",
       "      <td>0.904868</td>\n",
       "      <td>1.000000</td>\n",
       "    </tr>\n",
       "  </tbody>\n",
       "</table>\n",
       "</div>"
      ],
      "text/plain": [
       "                        EduMae    EduPai  tempoAteEscola  horaEstudoSemanal  \\\n",
       "EduMae                1.000000  0.623455       -0.171639           0.064944   \n",
       "EduPai                0.623455  1.000000       -0.158194          -0.009175   \n",
       "tempoAteEscola       -0.171639 -0.158194        1.000000          -0.100909   \n",
       "horaEstudoSemanal     0.064944 -0.009175       -0.100909           1.000000   \n",
       "reprovacoes          -0.236680 -0.250408        0.092239          -0.173563   \n",
       "nivelRelacaoFamiliar -0.003914 -0.001370       -0.016808           0.039731   \n",
       "tempoLivre            0.030891 -0.012846       -0.017025          -0.143198   \n",
       "saiComAmigos          0.064094  0.043105        0.028540          -0.063904   \n",
       "consumoDiaSemana      0.019834  0.002386        0.138325          -0.196019   \n",
       "consumoFimDeSemana   -0.047123 -0.012631        0.134116          -0.253785   \n",
       "saudeAtual           -0.046878  0.014742        0.007501          -0.075616   \n",
       "faltas                0.100285  0.024473       -0.012944          -0.062700   \n",
       "notaPrimeroPeriodo    0.205341  0.190270       -0.093040           0.160612   \n",
       "notaSegundoPeriodo    0.215527  0.164893       -0.153198           0.135880   \n",
       "notaTerceiroPeriodo   0.217147  0.152457       -0.117142           0.097820   \n",
       "\n",
       "                      reprovacoes  nivelRelacaoFamiliar  tempoLivre  \\\n",
       "EduMae                  -0.236680             -0.003914    0.030891   \n",
       "EduPai                  -0.250408             -0.001370   -0.012846   \n",
       "tempoAteEscola           0.092239             -0.016808   -0.017025   \n",
       "horaEstudoSemanal       -0.173563              0.039731   -0.143198   \n",
       "reprovacoes              1.000000             -0.044337    0.091987   \n",
       "nivelRelacaoFamiliar    -0.044337              1.000000    0.150701   \n",
       "tempoLivre               0.091987              0.150701    1.000000   \n",
       "saiComAmigos             0.124561              0.064568    0.285019   \n",
       "consumoDiaSemana         0.136047             -0.077594    0.209001   \n",
       "consumoFimDeSemana       0.141962             -0.113397    0.147822   \n",
       "saudeAtual               0.065827              0.094056    0.075733   \n",
       "faltas                   0.063726             -0.044354   -0.058078   \n",
       "notaPrimeroPeriodo      -0.354718              0.022168    0.012613   \n",
       "notaSegundoPeriodo      -0.355896             -0.018281   -0.013777   \n",
       "notaTerceiroPeriodo     -0.360415              0.051363    0.011307   \n",
       "\n",
       "                      saiComAmigos  consumoDiaSemana  consumoFimDeSemana  \\\n",
       "EduMae                    0.064094          0.019834           -0.047123   \n",
       "EduPai                    0.043105          0.002386           -0.012631   \n",
       "tempoAteEscola            0.028540          0.138325            0.134116   \n",
       "horaEstudoSemanal        -0.063904         -0.196019           -0.253785   \n",
       "reprovacoes               0.124561          0.136047            0.141962   \n",
       "nivelRelacaoFamiliar      0.064568         -0.077594           -0.113397   \n",
       "tempoLivre                0.285019          0.209001            0.147822   \n",
       "saiComAmigos              1.000000          0.266994            0.420386   \n",
       "consumoDiaSemana          0.266994          1.000000            0.647544   \n",
       "consumoFimDeSemana        0.420386          0.647544            1.000000   \n",
       "saudeAtual               -0.009577          0.077180            0.092476   \n",
       "faltas                    0.044302          0.111908            0.136291   \n",
       "notaPrimeroPeriodo       -0.149104         -0.094159           -0.126179   \n",
       "notaSegundoPeriodo       -0.162250         -0.064120           -0.084927   \n",
       "notaTerceiroPeriodo      -0.132791         -0.054660           -0.051939   \n",
       "\n",
       "                      saudeAtual    faltas  notaPrimeroPeriodo  \\\n",
       "EduMae                 -0.046878  0.100285            0.205341   \n",
       "EduPai                  0.014742  0.024473            0.190270   \n",
       "tempoAteEscola          0.007501 -0.012944           -0.093040   \n",
       "horaEstudoSemanal      -0.075616 -0.062700            0.160612   \n",
       "reprovacoes             0.065827  0.063726           -0.354718   \n",
       "nivelRelacaoFamiliar    0.094056 -0.044354            0.022168   \n",
       "tempoLivre              0.075733 -0.058078            0.012613   \n",
       "saiComAmigos           -0.009577  0.044302           -0.149104   \n",
       "consumoDiaSemana        0.077180  0.111908           -0.094159   \n",
       "consumoFimDeSemana      0.092476  0.136291           -0.126179   \n",
       "saudeAtual              1.000000 -0.029937           -0.073172   \n",
       "faltas                 -0.029937  1.000000           -0.031003   \n",
       "notaPrimeroPeriodo     -0.073172 -0.031003            1.000000   \n",
       "notaSegundoPeriodo     -0.097720 -0.031777            0.852118   \n",
       "notaTerceiroPeriodo    -0.061335  0.034247            0.801468   \n",
       "\n",
       "                      notaSegundoPeriodo  notaTerceiroPeriodo  \n",
       "EduMae                          0.215527             0.217147  \n",
       "EduPai                          0.164893             0.152457  \n",
       "tempoAteEscola                 -0.153198            -0.117142  \n",
       "horaEstudoSemanal               0.135880             0.097820  \n",
       "reprovacoes                    -0.355896            -0.360415  \n",
       "nivelRelacaoFamiliar           -0.018281             0.051363  \n",
       "tempoLivre                     -0.013777             0.011307  \n",
       "saiComAmigos                   -0.162250            -0.132791  \n",
       "consumoDiaSemana               -0.064120            -0.054660  \n",
       "consumoFimDeSemana             -0.084927            -0.051939  \n",
       "saudeAtual                     -0.097720            -0.061335  \n",
       "faltas                         -0.031777             0.034247  \n",
       "notaPrimeroPeriodo              0.852118             0.801468  \n",
       "notaSegundoPeriodo              1.000000             0.904868  \n",
       "notaTerceiroPeriodo             0.904868             1.000000  "
      ]
     },
     "execution_count": 12,
     "metadata": {},
     "output_type": "execute_result"
    }
   ],
   "source": [
    "values = Normalizer().fit_transform(dados_n.values)\n",
    "# dados_n.head()\n",
    "\n",
    "dados_n.corr()\n",
    "# dados_n.plot(kind=\"scatter\", x=\"reprovacoes\", y=\"horaEstudoSemanal\", s=dados_n[\"EduMae\"], c=\"EduPai\", figsize=(10,7))"
   ]
  },
  {
   "cell_type": "code",
   "execution_count": 61,
   "metadata": {},
   "outputs": [],
   "source": [
    "kmeans = KMeans(n_clusters=7, n_init=10, max_iter=300)\n",
    "y_pred = kmeans.fit_predict(values)"
   ]
  },
  {
   "cell_type": "code",
   "execution_count": 62,
   "metadata": {},
   "outputs": [],
   "source": [
    "dados_n[\"clusters\"] = y_pred"
   ]
  },
  {
   "cell_type": "code",
   "execution_count": 63,
   "metadata": {},
   "outputs": [
    {
     "data": {
      "text/plain": [
       "<matplotlib.axes._subplots.AxesSubplot at 0x7fbe7b0a6208>"
      ]
     },
     "execution_count": 63,
     "metadata": {},
     "output_type": "execute_result"
    },
    {
     "data": {
      "image/png": "[encoded data removed]",
      "text/plain": [
       "<Figure size 720x720 with 1 Axes>"
      ]
     },
     "metadata": {
      "needs_background": "light"
     },
     "output_type": "display_data"
    }
   ],
   "source": [
    "obj = dados_n.groupby(\"clusters\").aggregate(\"mean\")\n",
    "# kmeans.cluster_centers_\n",
    "obj.plot.bar(figsize=(10,10))"
   ]
  },
  {
   "cell_type": "code",
   "execution_count": 64,
   "metadata": {},
   "outputs": [],
   "source": [
    "labels= kmeans.labels_\n",
    "from sklearn import metrics\n",
    "silhouette = metrics.silhouette_score(values, labels, metric='euclidean')"
   ]
  },
  {
   "cell_type": "code",
   "execution_count": 65,
   "metadata": {},
   "outputs": [
    {
     "data": {
      "text/plain": [
       "0.2073512156609667"
      ]
     },
     "execution_count": 65,
     "metadata": {},
     "output_type": "execute_result"
    }
   ],
   "source": [
    "silhouette"
   ]
  },
  {
   "cell_type": "code",
   "execution_count": null,
   "metadata": {},
   "outputs": [],
   "source": []
  },
  {
   "cell_type": "code",
   "execution_count": 66,
   "metadata": {},
   "outputs": [
    {
     "data": {
      "text/plain": [
       "Index(['escola', 'sexo', 'idade', 'ondeMora', 'tamanhoFamilia', 'statusPai',\n",
       "       'EduMae', 'EduPai', 'trabalhoMae', 'trabalhoPai',\n",
       "       'porqueEscolheuEscola', 'guarda', 'tempoAteEscola', 'horaEstudoSemanal',\n",
       "       'reprovacoes', 'ajudaExtraEdu', 'ajudaExtraFamilia', 'aulasExtraPaga',\n",
       "       'extracurricular', 'foiAoMaternal', 'querFaculdade', 'internetEmCasa',\n",
       "       'emRelacionamento', 'nivelRelacaoFamiliar', 'tempoLivre',\n",
       "       'saiComAmigos', 'consumoDiaSemana', 'consumoFimDeSemana', 'saudeAtual',\n",
       "       'faltas', 'notaPrimeroPeriodo', 'notaSegundoPeriodo',\n",
       "       'notaTerceiroPeriodo'],\n",
       "      dtype='object')"
      ]
     },
     "execution_count": 66,
     "metadata": {},
     "output_type": "execute_result"
    }
   ],
   "source": [
    "dados.columns"
   ]
  },
  {
   "cell_type": "code",
   "execution_count": 67,
   "metadata": {},
   "outputs": [
    {
     "data": {
      "text/plain": [
       "array([[ 1.04327283e-01,  8.99479702e-02,  4.86469944e-02,\n",
       "         6.07431350e-02,  2.87691596e-02,  1.39587765e-01,\n",
       "         1.27866906e-01,  1.29514903e-01,  6.82935077e-02,\n",
       "         1.08748906e-01,  1.28644465e-01,  7.59113133e-01,\n",
       "         3.03361164e-01,  2.87501845e-01,  2.86465305e-01],\n",
       "       [ 1.15019239e-01,  1.07982099e-01,  5.70101488e-02,\n",
       "         9.37773731e-02,  4.65389790e-03,  1.60704837e-01,\n",
       "         1.31111975e-01,  1.26597158e-01,  5.69289960e-02,\n",
       "         9.34773674e-02,  1.31081784e-01,  2.29836485e-01,\n",
       "         5.05041656e-01,  5.14588422e-01,  5.23420745e-01],\n",
       "       [ 1.32539377e-01,  1.10238842e-01,  9.21299144e-02,\n",
       "         1.12043466e-01,  3.67653298e-02,  2.30719694e-01,\n",
       "         1.98246432e-01,  2.17617821e-01,  9.53295647e-02,\n",
       "         1.61345923e-01,  2.42272476e-01,  1.72905833e-01,\n",
       "         4.46629855e-01,  4.62201809e-01,  4.69286492e-01],\n",
       "       [ 2.10157468e-01,  1.97610023e-01,  1.54334133e-01,\n",
       "         1.39646732e-01,  7.19898524e-02,  3.56686483e-01,\n",
       "         2.84957975e-01,  3.09240805e-01,  9.77139870e-02,\n",
       "         1.40430412e-01,  3.47117936e-01, -2.77555756e-17,\n",
       "         5.85475361e-01, -5.55111512e-17,  1.11022302e-16],\n",
       "       [ 1.35070137e-01,  1.19465569e-01,  6.78255288e-02,\n",
       "         9.00990249e-02,  1.77887796e-02,  1.72982063e-01,\n",
       "         1.40457526e-01,  1.42363922e-01,  7.58058144e-02,\n",
       "         1.10149596e-01,  1.55065808e-01,  4.77228280e-01,\n",
       "         4.40344028e-01,  4.28792371e-01,  4.40545601e-01],\n",
       "       [ 1.16152215e-01,  1.11601197e-01,  5.86956373e-02,\n",
       "         8.58076525e-02,  3.46232134e-03,  1.70977427e-01,\n",
       "         1.34698918e-01,  1.13666322e-01,  5.45309899e-02,\n",
       "         8.25446409e-02,  1.48979376e-01,  4.26957199e-02,\n",
       "         5.19227911e-01,  5.31992535e-01,  5.38192719e-01],\n",
       "       [ 1.57725824e-01,  1.56849196e-01,  1.09160630e-01,\n",
       "         1.51529412e-01,  7.55546257e-02,  2.64465365e-01,\n",
       "         2.18234909e-01,  2.15056805e-01,  1.03367031e-01,\n",
       "         1.49568190e-01,  2.48223747e-01,  5.55111512e-17,\n",
       "         5.55379095e-01,  5.16439112e-01,  2.22044605e-16]])"
      ]
     },
     "execution_count": 67,
     "metadata": {},
     "output_type": "execute_result"
    }
   ],
   "source": [
    "kmeans.cluster_centers_"
   ]
  },
  {
   "cell_type": "code",
   "execution_count": null,
   "metadata": {},
   "outputs": [],
   "source": [
    "from sklearn.manifold import TSNE\n",
    "\n",
    "tsne = TSNE()\n",
    "visualizacao = tsne.fit_transform(values)\n",
    "visualizacao"
   ]
  },
  {
   "cell_type": "code",
   "execution_count": 25,
   "metadata": {},
   "outputs": [
    {
     "data": {
      "text/plain": [
       "<matplotlib.axes._subplots.AxesSubplot at 0x7f999024c588>"
      ]
     },
     "execution_count": 25,
     "metadata": {},
     "output_type": "execute_result"
    },
    {
     "data": {
      "image/png": "[encoded data removed]",
      "text/plain": [
       "<Figure size 432x288 with 1 Axes>"
      ]
     },
     "metadata": {
      "needs_background": "light"
     },
     "output_type": "display_data"
    }
   ],
   "source": [
    "sns.scatterplot(x=visualizacao[:,0], y=visualizacao[:,1], \\\n",
    "                hue=kmeans.labels_)"
   ]
  },
  {
   "cell_type": "code",
   "execution_count": 46,
   "metadata": {},
   "outputs": [],
   "source": [
    "def kmeans(numero_de_clusters, generos):\n",
    "    modelo = KMeans(numero_de_clusters)\n",
    "    modelo.fit(generos)\n",
    "    return [numero_de_clusters, modelo.inertia_]"
   ]
  },
  {
   "cell_type": "code",
   "execution_count": 47,
   "metadata": {},
   "outputs": [
    {
     "data": {
      "text/plain": [
       "[20, 8.696024492539859]"
      ]
     },
     "execution_count": 47,
     "metadata": {},
     "output_type": "execute_result"
    }
   ],
   "source": [
    "kmeans(20,values)"
   ]
  },
  {
   "cell_type": "code",
   "execution_count": 48,
   "metadata": {},
   "outputs": [
    {
     "data": {
      "text/plain": [
       "[[1, 55.83425862741217],\n",
       " [2, 37.01060140102817],\n",
       " [3, 23.590942745475147],\n",
       " [4, 19.424719877908338],\n",
       " [5, 16.618622238511506],\n",
       " [6, 14.743503426913719],\n",
       " [7, 13.534074510065931],\n",
       " [8, 12.741203840695015],\n",
       " [9, 11.960967182476095],\n",
       " [10, 11.49008681510827],\n",
       " [11, 11.138370520631517],\n",
       " [12, 10.771357450848322],\n",
       " [13, 10.412749846027847],\n",
       " [14, 10.129458677886543],\n",
       " [15, 9.816637285815041],\n",
       " [16, 9.541782130389425],\n",
       " [17, 9.300298421354384],\n",
       " [18, 9.110803441767157],\n",
       " [19, 8.947203448852445],\n",
       " [20, 8.703473981955371],\n",
       " [21, 8.531844814838008],\n",
       " [22, 8.361220233709426],\n",
       " [23, 8.246918588502679],\n",
       " [24, 8.12828111751674],\n",
       " [25, 7.943364635707113],\n",
       " [26, 7.797832568790326],\n",
       " [27, 7.714072013980438],\n",
       " [28, 7.519082844200435],\n",
       " [29, 7.4425591491293535],\n",
       " [30, 7.315983427467116],\n",
       " [31, 7.317497866969714],\n",
       " [32, 7.163845976442825],\n",
       " [33, 7.058639158484119],\n",
       " [34, 7.002931316186419],\n",
       " [35, 6.843505663934322],\n",
       " [36, 6.804924540915026],\n",
       " [37, 6.717270026150368],\n",
       " [38, 6.502864007087169],\n",
       " [39, 6.578728625510632],\n",
       " [40, 6.452341653934306]]"
      ]
     },
     "execution_count": 48,
     "metadata": {},
     "output_type": "execute_result"
    }
   ],
   "source": [
    "resultado = [kmeans(numero_de_grupos,values) for numero_de_grupos in range(1,41)]\n",
    "resultado"
   ]
  },
  {
   "cell_type": "code",
   "execution_count": 49,
   "metadata": {},
   "outputs": [],
   "source": [
    "resultado = pd.DataFrame(resultado, columns=['nClusters','inertia'])"
   ]
  },
  {
   "cell_type": "code",
   "execution_count": 50,
   "metadata": {},
   "outputs": [
    {
     "data": {
      "text/plain": [
       "<matplotlib.axes._subplots.AxesSubplot at 0x7fbe7b26b908>"
      ]
     },
     "execution_count": 50,
     "metadata": {},
     "output_type": "execute_result"
    },
    {
     "data": {
      "image/png": "[encoded data removed]",
      "text/plain": [
       "<Figure size 432x288 with 1 Axes>"
      ]
     },
     "metadata": {
      "needs_background": "light"
     },
     "output_type": "display_data"
    }
   ],
   "source": [
    "resultado.inertia.plot(xticks=resultado.nClusters)"
   ]
  },
  {
   "cell_type": "code",
   "execution_count": null,
   "metadata": {},
   "outputs": [],
   "source": []
  }
 ],
 "metadata": {
  "kernelspec": {
   "display_name": "Python 3",
   "language": "python",
   "name": "python3"
  },
  "language_info": {
   "codemirror_mode": {
    "name": "ipython",
    "version": 3
   },
   "file_extension": ".py",
   "mimetype": "text/x-python",
   "name": "python",
   "nbconvert_exporter": "python",
   "pygments_lexer": "ipython3",
   "version": "3.6.9"
  }
 },
 "nbformat": 4,
 "nbformat_minor": 4
}
